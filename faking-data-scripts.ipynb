{
 "cells": [
  {
   "cell_type": "markdown",
   "id": "fb1b66dd",
   "metadata": {},
   "source": [
    "# Import package"
   ]
  },
  {
   "cell_type": "code",
   "execution_count": 1,
   "id": "2852ebe6",
   "metadata": {
    "scrolled": true
   },
   "outputs": [],
   "source": [
    "from cassandra.cluster import Cluster\n",
    "from cassandra.cqlengine import columns\n",
    "from cassandra.cqlengine.models import  Model\n",
    "from cassandra.cqlengine.management import sync_table\n",
    "from cassandra.cqlengine import connection\n",
    "from cassandra.query import dict_factory\n",
    "from datetime import datetime, timedelta\n",
    "import time\n",
    "import cassandra\n",
    "import random\n",
    "import uuid\n",
    "import math\n",
    "import pandas as pd\n",
    "pd.set_option(\"display.max_rows\", None, \"display.max_columns\", None)\n",
    "import datetime\n",
    "from sqlalchemy import create_engine\n",
    "import pandas as pd\n",
    "import numpy as np\n",
    "import mysql.connector"
   ]
  },
  {
   "cell_type": "code",
   "execution_count": 2,
   "id": "112b31d3",
   "metadata": {},
   "outputs": [],
   "source": [
    "import warnings\n",
    "warnings.filterwarnings('ignore')"
   ]
  },
  {
   "cell_type": "code",
   "execution_count": 3,
   "id": "cdd1962a",
   "metadata": {},
   "outputs": [],
   "source": [
    "host = 'localhost'\n",
    "port = 3310\n",
    "database = 'de_learning'\n",
    "user = 'root'\n",
    "password = 'sa'"
   ]
  },
  {
   "cell_type": "code",
   "execution_count": 5,
   "id": "eb4bff22",
   "metadata": {},
   "outputs": [],
   "source": [
    "keyspace = 'de_learning'\n",
    "cluster = Cluster()\n",
    "session = cluster.connect(keyspace)"
   ]
  },
  {
   "cell_type": "code",
   "execution_count": 6,
   "id": "a2e0b871",
   "metadata": {},
   "outputs": [],
   "source": [
    "def get_data_from_job(user,password,host,port,database):\n",
    "    cnx = mysql.connector.connect(user = user, password = password, host = host, port = port, database = database)\n",
    "    query = \"\"\"select id as job_id, campaign_id, group_id, company_id from job\"\"\"\n",
    "    mysql_data = pd.read_sql(query,cnx)\n",
    "    return mysql_data"
   ]
  },
  {
   "cell_type": "code",
   "execution_count": 7,
   "id": "e9307c19",
   "metadata": {},
   "outputs": [],
   "source": [
    "def get_data_from_publisher(user,password,host,port,database):\n",
    "    cnx = mysql.connector.connect(user = user, password = password, host = host, port = port, database = database)\n",
    "    query = \"\"\"select distinct(id) as publisher_id from master_publisher\"\"\"\n",
    "    mysql_data = pd.read_sql(query,cnx)\n",
    "    return mysql_data"
   ]
  },
  {
   "cell_type": "code",
   "execution_count": 8,
   "id": "73bc4e16",
   "metadata": {},
   "outputs": [],
   "source": [
    "def tracking_generating(n_records,session,user,password,host,db_name):\n",
    "    print('| Connecting to server...                    |')\n",
    "    print('+--------------------------------------------+')\n",
    "    publisher = get_data_from_publisher(user,password,host,port,database)\n",
    "    publisher_list = publisher['publisher_id'].to_list()\n",
    "    jobs_data = get_data_from_job(user,password,host,port,database)\n",
    "    jobs_list = jobs_data['job_id'].to_list()\n",
    "    campaign_list = jobs_data['campaign_id'].to_list()\n",
    "    group_list = jobs_data[jobs_data['group_id'].notnull()]['group_id'].astype(int).to_list()\n",
    "    i = 0\n",
    "    record = n_records\n",
    "    while i <= record:\n",
    "        create_time = str(cassandra.util.uuid_from_time(datetime.datetime.now()))\n",
    "        bid = random.randint(0,1)\n",
    "        campaign_id = random.choice(campaign_list)\n",
    "        interact = ['click','conversion','qualified','unqualified']\n",
    "        custom_track = random.choices(interact,weights=(70,10,10,10))[0]\n",
    "        group_id = random.choice(group_list)\n",
    "        job_id = random.choice(jobs_list)\n",
    "        publisher_id = random.choice(publisher_list)\n",
    "        ts = datetime.datetime.now().strftime('%Y-%m-%d %H:%M:%S')\n",
    "        sql = \"\"\"insert into tracking(create_time,bid,campaign_id,custom_track,group_id,job_id,publisher_id,ts) values('{}',{},{},'{}',{},{},{},'{}')\"\"\".format(create_time,bid,campaign_id,custom_track,group_id,job_id,publisher_id,ts)\n",
    "        session.execute(sql)\n",
    "        i+=1\n",
    "    return print(\"| Data Generated Successfully                |\")"
   ]
  },
  {
   "cell_type": "code",
   "execution_count": 9,
   "id": "d101c712",
   "metadata": {
    "scrolled": false
   },
   "outputs": [
    {
     "name": "stdout",
     "output_type": "stream",
     "text": [
      "+--------------------------------------------+\n",
      "| Fake new data into Datalake (Cassandra DB) |\n",
      "+--------------------------------------------+\n",
      "+--------------------------------------------+\n",
      "| Insert 8 records to DataLake               |\n",
      "+--------------------------------------------+\n",
      "| Connecting to server...                    |\n",
      "+--------------------------------------------+\n",
      "| Data Generated Successfully                |\n",
      "+--------------------------------------------+\n",
      "| Task Completed!                            |\n",
      "+--------------------------------------------+\n",
      "~~~~~~~~~~~~~~~~~~~~~~~~~~~~~~~~~~~~~~~~~~~~~~\n"
     ]
    },
    {
     "ename": "KeyboardInterrupt",
     "evalue": "",
     "output_type": "error",
     "traceback": [
      "\u001b[1;31m---------------------------------------------------------------------------\u001b[0m",
      "\u001b[1;31mKeyboardInterrupt\u001b[0m                         Traceback (most recent call last)",
      "Cell \u001b[1;32mIn[9], line 15\u001b[0m\n\u001b[0;32m     13\u001b[0m \u001b[38;5;28mprint\u001b[39m(\u001b[38;5;124m'\u001b[39m\u001b[38;5;124m+--------------------------------------------+\u001b[39m\u001b[38;5;124m'\u001b[39m)\n\u001b[0;32m     14\u001b[0m \u001b[38;5;28mprint\u001b[39m(\u001b[38;5;124m'\u001b[39m\u001b[38;5;124m~~~~~~~~~~~~~~~~~~~~~~~~~~~~~~~~~~~~~~~~~~~~~~\u001b[39m\u001b[38;5;124m'\u001b[39m)\n\u001b[1;32m---> 15\u001b[0m \u001b[43mtime\u001b[49m\u001b[38;5;241;43m.\u001b[39;49m\u001b[43msleep\u001b[49m\u001b[43m(\u001b[49m\u001b[38;5;241;43m10\u001b[39;49m\u001b[43m)\u001b[49m\n",
      "\u001b[1;31mKeyboardInterrupt\u001b[0m: "
     ]
    }
   ],
   "source": [
    "status = 'ON'\n",
    "while status == 'ON':\n",
    "    print('+--------------------------------------------+')\n",
    "    print('| Fake new data into Datalake (Cassandra DB) |')\n",
    "    print('+--------------------------------------------+')\n",
    "    n_records = random.randint(1,9)\n",
    "    print('+--------------------------------------------+')\n",
    "    print('| Insert {} records to DataLake               |'.format(n_records))\n",
    "    print('+--------------------------------------------+')\n",
    "    tracking_generating(n_records,session,user,password,host,database)\n",
    "    print('+--------------------------------------------+')\n",
    "    print('| Task Completed!                            |')\n",
    "    print('+--------------------------------------------+')\n",
    "    print('~~~~~~~~~~~~~~~~~~~~~~~~~~~~~~~~~~~~~~~~~~~~~~')\n",
    "    time.sleep(10)"
   ]
  },
  {
   "cell_type": "code",
   "execution_count": null,
   "id": "d10838f9",
   "metadata": {},
   "outputs": [],
   "source": []
  }
 ],
 "metadata": {
  "kernelspec": {
   "display_name": "Python 3 (ipykernel)",
   "language": "python",
   "name": "python3"
  },
  "language_info": {
   "codemirror_mode": {
    "name": "ipython",
    "version": 3
   },
   "file_extension": ".py",
   "mimetype": "text/x-python",
   "name": "python",
   "nbconvert_exporter": "python",
   "pygments_lexer": "ipython3",
   "version": "3.9.12"
  }
 },
 "nbformat": 4,
 "nbformat_minor": 5
}
